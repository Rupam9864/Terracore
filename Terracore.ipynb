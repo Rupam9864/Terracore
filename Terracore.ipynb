{
  "nbformat": 4,
  "nbformat_minor": 0,
  "metadata": {
    "colab": {
      "provenance": [],
      "gpuType": "T4"
    },
    "kernelspec": {
      "name": "python3",
      "display_name": "Python 3"
    },
    "language_info": {
      "name": "python"
    },
    "accelerator": "GPU"
  },
  "cells": [
    {
      "cell_type": "code",
      "execution_count": 1,
      "metadata": {
        "id": "cJ9B-oUCz3DZ"
      },
      "outputs": [],
      "source": [
        "import numpy as np\n",
        "import pandas as pd\n",
        "import matplotlib.pyplot as plt\n",
        "from sklearn.model_selection import train_test_split\n",
        "from sklearn.tree import DecisionTreeClassifier\n",
        "from sklearn.metrics import classification_report, accuracy_score, confusion_matrix\n",
        "import pickle\n"
      ]
    },
    {
      "cell_type": "code",
      "source": [
        "# ---------------------------\n",
        "# Data Generation and Preprocessing\n",
        "# ---------------------------\n",
        "def generate_data(num_samples=1000, random_state=42, use_fixed_seed=True):\n",
        "    \"\"\"\n",
        "      Set Parameters:\n",
        "      num_samples (int): Number of samples to generate.\n",
        "      random_state (int): Seed for reproducibility.\n",
        "      use_fixed_seed (bool): Set to False to allow variability in outputs.\n",
        "    \"\"\"\n",
        "\n",
        "    # Generate synthetic sensor readings\n",
        "    moisture = np.random.uniform(0, 1, num_samples)\n",
        "    nutrient = np.random.uniform(0, 1, num_samples)\n",
        "    temperature = np.random.uniform(20, 40, num_samples)\n",
        "    humidity = np.random.uniform(20, 100, num_samples)\n",
        "    pest_indicator = np.random.uniform(0, 1, num_samples)\n",
        "\n",
        "    # Create risk labels based on simple, rule-based logic\n",
        "    labels = []\n",
        "    for i in range(num_samples):\n",
        "        risk = 0  # default: normal\n",
        "        # Check drought condition\n",
        "        if moisture[i] < 0.3 and temperature[i] > 35:\n",
        "            risk = 1\n",
        "        # Check pest condition\n",
        "        if pest_indicator[i] > 0.7:\n",
        "            # If drought condition already flagged, combine into both risks\n",
        "            if risk == 1:\n",
        "                risk = 3\n",
        "            else:\n",
        "                risk = 2\n",
        "        labels.append(risk)\n",
        "\n",
        "    data = pd.DataFrame({\n",
        "        'moisture': moisture,\n",
        "        'nutrient': nutrient,\n",
        "        'temperature': temperature,\n",
        "        'humidity': humidity,\n",
        "        'pest': pest_indicator,\n",
        "        'risk': labels\n",
        "    })\n",
        "    return data\n",
        "\n",
        "print(generate_data())"
      ],
      "metadata": {
        "colab": {
          "base_uri": "https://localhost:8080/"
        },
        "id": "X3okS1XcW1j-",
        "outputId": "57a3920a-9629-41ac-aa93-2494064e6d54"
      },
      "execution_count": 2,
      "outputs": [
        {
          "output_type": "stream",
          "name": "stdout",
          "text": [
            "     moisture  nutrient  temperature   humidity      pest  risk\n",
            "0    0.760341  0.984169    20.344382  89.625401  0.534944     0\n",
            "1    0.600787  0.579798    31.588029  56.659682  0.355419     0\n",
            "2    0.681997  0.598258    28.380697  75.370531  0.402882     0\n",
            "3    0.636607  0.557196    37.307264  81.920905  0.273314     0\n",
            "4    0.907253  0.539237    39.300642  83.624778  0.976229     2\n",
            "..        ...       ...          ...        ...       ...   ...\n",
            "995  0.951987  0.532571    27.686344  68.328316  0.664687     0\n",
            "996  0.002518  0.914162    30.892053  36.961818  0.393327     0\n",
            "997  0.648535  0.676349    38.041794  62.735016  0.891026     2\n",
            "998  0.691031  0.908888    32.174407  61.136567  0.946052     2\n",
            "999  0.738279  0.924208    30.321619  35.945490  0.221444     0\n",
            "\n",
            "[1000 rows x 6 columns]\n"
          ]
        }
      ]
    },
    {
      "cell_type": "code",
      "source": [
        "# Visualization function to plot the risk distribution\n",
        "def plot_risk_distribution(data):\n",
        "    risk_counts = data['risk'].value_counts().sort_index()\n",
        "    plt.figure(figsize=(6, 4))\n",
        "    plt.bar(risk_counts.index.astype(str), risk_counts.values)\n",
        "    plt.xlabel(\"Risk Level\")\n",
        "    plt.ylabel(\"Number of Samples\")\n",
        "    plt.title(\"Distribution of Risk Levels in Synthetic Data\")\n",
        "    plt.show()\n",
        "\n",
        "plot_risk_distribution(generate_data())\n"
      ],
      "metadata": {
        "colab": {
          "base_uri": "https://localhost:8080/",
          "height": 410
        },
        "id": "UOlGeE6WbVxY",
        "outputId": "55a282e6-8236-4f68-b617-4d4b1155f05d"
      },
      "execution_count": 3,
      "outputs": [
        {
          "output_type": "display_data",
          "data": {
            "text/plain": [
              "<Figure size 600x400 with 1 Axes>"
            ],
            "image/png": "[encoded data removed]"
          },
          "metadata": {}
        }
      ]
    },
    {
      "cell_type": "code",
      "source": [
        "# ---------------------------\n",
        "# Model Training and Evaluation (We are using Decision Tree Classifier)\n",
        "# ---------------------------\n",
        "def train_model(data):\n",
        "    # Extract features and target\n",
        "    features = data[['moisture', 'nutrient', 'temperature', 'humidity', 'pest']]\n",
        "    labels = data['risk']\n",
        "\n",
        "    # Print dataset observations\n",
        "    print(\"Data Description:\")\n",
        "    print(data.describe(), \"\\n\")\n",
        "    print(\"Risk Distribution:\")\n",
        "    print(data['risk'].value_counts().sort_index(), \"\\n\")\n",
        "\n",
        "    # Split data into training and testing sets\n",
        "    X_train, X_test, y_train, y_test = train_test_split(features, labels, test_size=0.2, random_state=42)\n",
        "\n",
        "    # Initialize and train the Decision Tree model\n",
        "    model = DecisionTreeClassifier(random_state=42)\n",
        "    model.fit(X_train, y_train)\n",
        "\n",
        "    # Evaluate the model on test data\n",
        "    predictions = model.predict(X_test)\n",
        "    acc = accuracy_score(y_test, predictions)\n",
        "    print(\"Model Accuracy:\", acc)\n",
        "    print(\"Classification Report:\\n\", classification_report(y_test, predictions))\n",
        "\n",
        "    # Display confusion matrix\n",
        "    conf_matrix = confusion_matrix(y_test, predictions)\n",
        "    print(\"Confusion Matrix:\\n\", conf_matrix, \"\\n\")\n",
        "\n",
        "    return model  #returned trained classifier\n"
      ],
      "metadata": {
        "id": "svukGJi6bYZv"
      },
      "execution_count": 4,
      "outputs": []
    },
    {
      "cell_type": "code",
      "source": [
        "# ---------------------------\n",
        "# Sensor Simulation and SMS Alert\n",
        "# ---------------------------\n",
        "def simulate_sensor_reading():\n",
        "    \"\"\"\n",
        "    Returns:\n",
        "      sensor_data (np.array): A 1x5 array representing the sensor values.\n",
        "    \"\"\"\n",
        "    moisture = np.random.uniform(0, 1)\n",
        "    nutrient = np.random.uniform(0, 1)\n",
        "    temperature = np.random.uniform(20, 40)\n",
        "    humidity = np.random.uniform(20, 100)\n",
        "    pest_indicator = np.random.uniform(0, 1)\n",
        "\n",
        "    sensor_data = np.array([moisture, nutrient, temperature, humidity, pest_indicator]).reshape(1, -1)\n",
        "    print(\"Simulated Sensor Reading:\", sensor_data)\n",
        "    return sensor_data\n",
        "\n",
        "def send_sms_alert(risk):\n",
        "    if risk == 0:\n",
        "        message = \"No risk detected. Your crops are in good condition.\"\n",
        "    elif risk == 1:\n",
        "        message = \"Drought risk detected. Consider irrigation.\"\n",
        "    elif risk == 2:\n",
        "        message = \"Pest risk detected. Consider pest control measures.\"\n",
        "    elif risk == 3:\n",
        "        message = \"Both drought and pest risks detected. Urgent action needed: irrigate and apply pest control.\"\n",
        "    print(\"SMS Alert:\", message)\n",
        "    return message\n"
      ],
      "metadata": {
        "id": "Fc3_0mKRc5AG"
      },
      "execution_count": 5,
      "outputs": []
    },
    {
      "cell_type": "code",
      "source": [
        "# ---------------------------\n",
        "# Main Function\n",
        "# ---------------------------\n",
        "def main():\n",
        "    print(\"1: Generating synthetic sensor data...\")\n",
        "    data = generate_data(num_samples=1000, use_fixed_seed=True)\n",
        "    print(\"First 5 rows of generated data:\")\n",
        "    print(data.head(), \"\\n\")\n",
        "\n",
        "    # Distribution of risk classes\n",
        "    print(\"Observations from generated data:\")\n",
        "    print(\"Risk Level Counts:\")\n",
        "    print(data['risk'].value_counts().sort_index(), \"\\n\")\n",
        "\n",
        "\n",
        "    print(\"\\n\\n\\n2: Training the model...\")\n",
        "    model = train_model(data)\n",
        "    print(\"Model training completed.\\n\")\n",
        "\n",
        "    # Save model locally for offline use\n",
        "    with open(\"env_monitoring_model.pkl\", \"wb\") as f:\n",
        "        pickle.dump(model, f)\n",
        "    print(\"Model saved to 'env_monitoring_model.pkl'\\n\")\n",
        "\n",
        "    print(\"\\n\\n\\n3: Simulating real-time sensor reading and prediction...\")\n",
        "    sensor_data = simulate_sensor_reading()\n",
        "    risk_pred = model.predict(sensor_data)[0]\n",
        "    print(\"\\n\\nPredicted risk level:\", risk_pred)\n",
        "    send_sms_alert(risk_pred)\n",
        "\n",
        "if __name__ == \"__main__\":\n",
        "    main()\n"
      ],
      "metadata": {
        "colab": {
          "base_uri": "https://localhost:8080/"
        },
        "id": "mQwIITwWdEZY",
        "outputId": "549fe1c7-6add-4612-c3ee-e28bccd6368d"
      },
      "execution_count": 6,
      "outputs": [
        {
          "output_type": "stream",
          "name": "stdout",
          "text": [
            "1: Generating synthetic sensor data...\n",
            "First 5 rows of generated data:\n",
            "   moisture  nutrient  temperature   humidity      pest  risk\n",
            "0  0.591275  0.418870    22.492808  66.274111  0.345500     0\n",
            "1  0.868347  0.759297    31.119286  96.227331  0.352517     0\n",
            "2  0.832637  0.726713    32.997119  52.425513  0.733197     2\n",
            "3  0.972585  0.939944    39.461296  43.132871  0.762873     2\n",
            "4  0.623130  0.617560    31.598123  40.101094  0.648453     0 \n",
            "\n",
            "Observations from generated data:\n",
            "Risk Level Counts:\n",
            "risk\n",
            "0    630\n",
            "1     56\n",
            "2    289\n",
            "3     25\n",
            "Name: count, dtype: int64 \n",
            "\n",
            "\n",
            "\n",
            "\n",
            "2: Training the model...\n",
            "Data Description:\n",
            "          moisture     nutrient  temperature     humidity         pest  \\\n",
            "count  1000.000000  1000.000000  1000.000000  1000.000000  1000.000000   \n",
            "mean      0.485531     0.500150    30.193583    58.610630     0.510373   \n",
            "std       0.284027     0.289042     5.882584    23.326018     0.288688   \n",
            "min       0.000755     0.001384    20.013633    20.054585     0.000290   \n",
            "25%       0.239993     0.257604    25.016817    39.015499     0.255365   \n",
            "50%       0.475235     0.494963    30.239145    57.526245     0.523567   \n",
            "75%       0.725051     0.759757    35.447532    78.821661     0.759807   \n",
            "max       0.998400     0.999952    39.986683    99.994159     0.997711   \n",
            "\n",
            "              risk  \n",
            "count  1000.000000  \n",
            "mean      0.709000  \n",
            "std       0.967085  \n",
            "min       0.000000  \n",
            "25%       0.000000  \n",
            "50%       0.000000  \n",
            "75%       2.000000  \n",
            "max       3.000000   \n",
            "\n",
            "Risk Distribution:\n",
            "risk\n",
            "0    630\n",
            "1     56\n",
            "2    289\n",
            "3     25\n",
            "Name: count, dtype: int64 \n",
            "\n",
            "Model Accuracy: 0.995\n",
            "Classification Report:\n",
            "               precision    recall  f1-score   support\n",
            "\n",
            "           0       0.99      1.00      1.00       131\n",
            "           1       1.00      0.94      0.97        18\n",
            "           2       1.00      1.00      1.00        48\n",
            "           3       1.00      1.00      1.00         3\n",
            "\n",
            "    accuracy                           0.99       200\n",
            "   macro avg       1.00      0.99      0.99       200\n",
            "weighted avg       1.00      0.99      0.99       200\n",
            "\n",
            "Confusion Matrix:\n",
            " [[131   0   0   0]\n",
            " [  1  17   0   0]\n",
            " [  0   0  48   0]\n",
            " [  0   0   0   3]] \n",
            "\n",
            "Model training completed.\n",
            "\n",
            "Model saved to 'env_monitoring_model.pkl'\n",
            "\n",
            "\n",
            "\n",
            "\n",
            "3: Simulating real-time sensor reading and prediction...\n",
            "Simulated Sensor Reading: [[ 0.64366961  0.61490216 39.06304151 75.18004653  0.6125509 ]]\n",
            "\n",
            "\n",
            "Predicted risk level: 0\n",
            "SMS Alert: No risk detected. Your crops are in good condition.\n"
          ]
        },
        {
          "output_type": "stream",
          "name": "stderr",
          "text": [
            "/usr/local/lib/python3.11/dist-packages/sklearn/utils/validation.py:2739: UserWarning: X does not have valid feature names, but DecisionTreeClassifier was fitted with feature names\n",
            "  warnings.warn(\n"
          ]
        }
      ]
    },
    {
      "cell_type": "code",
      "source": [],
      "metadata": {
        "id": "GNxRvk77dNFf"
      },
      "execution_count": 6,
      "outputs": []
    }
  ]
}